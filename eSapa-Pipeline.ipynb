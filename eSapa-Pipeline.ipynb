{
  "cells": [
    {
      "cell_type": "markdown",
      "metadata": {
        "id": "view-in-github",
        "colab_type": "text"
      },
      "source": [
        "<a href=\"https://colab.research.google.com/github/talk2xpert/eSAGA/blob/main/eSapa-Pipeline.ipynb\" target=\"_parent\"><img src=\"https://colab.research.google.com/assets/colab-badge.svg\" alt=\"Open In Colab\"/></a>"
      ]
    },
    {
      "cell_type": "code",
      "source": [
        "from google.colab import drive\n",
        "drive.mount('/content/drive')"
      ],
      "metadata": {
        "colab": {
          "base_uri": "https://localhost:8080/"
        },
        "id": "q3hENLpDyeY-",
        "outputId": "5b503b27-4644-44b3-83ff-02c9ce5c5c30"
      },
      "execution_count": 2,
      "outputs": [
        {
          "output_type": "stream",
          "name": "stdout",
          "text": [
            "Mounted at /content/drive\n"
          ]
        }
      ]
    },
    {
      "cell_type": "code",
      "source": [
        "!git clone https://github.com/RinkiDS/face_detection.git"
      ],
      "metadata": {
        "colab": {
          "base_uri": "https://localhost:8080/"
        },
        "id": "MCrTqhZp_AFT",
        "outputId": "a1ab815e-9d3b-4f26-e3e4-1d95974a435e"
      },
      "execution_count": 1,
      "outputs": [
        {
          "output_type": "stream",
          "name": "stdout",
          "text": [
            "Cloning into 'face_detection'...\n",
            "remote: Enumerating objects: 187, done.\u001b[K\n",
            "remote: Counting objects: 100% (187/187), done.\u001b[K\n",
            "remote: Compressing objects: 100% (137/137), done.\u001b[K\n",
            "remote: Total 187 (delta 72), reused 149 (delta 42), pack-reused 0\u001b[K\n",
            "Receiving objects: 100% (187/187), 24.88 KiB | 2.76 MiB/s, done.\n",
            "Resolving deltas: 100% (72/72), done.\n"
          ]
        }
      ]
    },
    {
      "cell_type": "code",
      "source": [
        "import os\n",
        "os.getcwd()\n",
        "os.chdir(\"/content/face_detection\")\n",
        "os.getcwd()"
      ],
      "metadata": {
        "colab": {
          "base_uri": "https://localhost:8080/",
          "height": 36
        },
        "id": "Jk1KhN2FBiFC",
        "outputId": "f832cf0b-8ba5-4b03-b3ce-e18cbc607c60"
      },
      "execution_count": 8,
      "outputs": [
        {
          "output_type": "execute_result",
          "data": {
            "text/plain": [
              "'/content/face_detection'"
            ],
            "application/vnd.google.colaboratory.intrinsic+json": {
              "type": "string"
            }
          },
          "metadata": {},
          "execution_count": 8
        }
      ]
    },
    {
      "cell_type": "code",
      "source": [
        "!pip install -r requirements.txt"
      ],
      "metadata": {
        "colab": {
          "base_uri": "https://localhost:8080/"
        },
        "id": "xCpSE2stBWCA",
        "outputId": "409f8070-9810-49e8-b656-cdfc03d45099"
      },
      "execution_count": 7,
      "outputs": [
        {
          "output_type": "stream",
          "name": "stdout",
          "text": [
            "Collecting tensorflow==2.16.1 (from -r requirements.txt (line 1))\n",
            "  Downloading tensorflow-2.16.1-cp310-cp310-manylinux_2_17_x86_64.manylinux2014_x86_64.whl (589.8 MB)\n",
            "\u001b[2K     \u001b[90m━━━━━━━━━━━━━━━━━━━━━━━━━━━━━━━━━━━━━━━━\u001b[0m \u001b[32m589.8/589.8 MB\u001b[0m \u001b[31m836.8 kB/s\u001b[0m eta \u001b[36m0:00:00\u001b[0m\n",
            "\u001b[?25hRequirement already satisfied: numpy in /usr/local/lib/python3.10/dist-packages (from -r requirements.txt (line 2)) (1.25.2)\n",
            "Requirement already satisfied: opencv-python in /usr/local/lib/python3.10/dist-packages (from -r requirements.txt (line 3)) (4.8.0.76)\n",
            "Requirement already satisfied: Pillow in /usr/local/lib/python3.10/dist-packages (from -r requirements.txt (line 4)) (9.4.0)\n",
            "Collecting deepface (from -r requirements.txt (line 5))\n",
            "  Downloading deepface-0.0.91-py3-none-any.whl (97 kB)\n",
            "\u001b[2K     \u001b[90m━━━━━━━━━━━━━━━━━━━━━━━━━━━━━━━━━━━━━━━━\u001b[0m \u001b[32m97.3/97.3 kB\u001b[0m \u001b[31m8.3 MB/s\u001b[0m eta \u001b[36m0:00:00\u001b[0m\n",
            "\u001b[?25hRequirement already satisfied: matplotlib in /usr/local/lib/python3.10/dist-packages (from -r requirements.txt (line 6)) (3.7.1)\n",
            "Requirement already satisfied: pyyaml in /usr/local/lib/python3.10/dist-packages (from -r requirements.txt (line 7)) (6.0.1)\n",
            "Requirement already satisfied: tf-keras in /usr/local/lib/python3.10/dist-packages (from -r requirements.txt (line 8)) (2.15.1)\n",
            "Requirement already satisfied: absl-py>=1.0.0 in /usr/local/lib/python3.10/dist-packages (from tensorflow==2.16.1->-r requirements.txt (line 1)) (1.4.0)\n",
            "Requirement already satisfied: astunparse>=1.6.0 in /usr/local/lib/python3.10/dist-packages (from tensorflow==2.16.1->-r requirements.txt (line 1)) (1.6.3)\n",
            "Requirement already satisfied: flatbuffers>=23.5.26 in /usr/local/lib/python3.10/dist-packages (from tensorflow==2.16.1->-r requirements.txt (line 1)) (24.3.25)\n",
            "Requirement already satisfied: gast!=0.5.0,!=0.5.1,!=0.5.2,>=0.2.1 in /usr/local/lib/python3.10/dist-packages (from tensorflow==2.16.1->-r requirements.txt (line 1)) (0.5.4)\n",
            "Requirement already satisfied: google-pasta>=0.1.1 in /usr/local/lib/python3.10/dist-packages (from tensorflow==2.16.1->-r requirements.txt (line 1)) (0.2.0)\n",
            "Collecting h5py>=3.10.0 (from tensorflow==2.16.1->-r requirements.txt (line 1))\n",
            "  Downloading h5py-3.11.0-cp310-cp310-manylinux_2_17_x86_64.manylinux2014_x86_64.whl (5.3 MB)\n",
            "\u001b[2K     \u001b[90m━━━━━━━━━━━━━━━━━━━━━━━━━━━━━━━━━━━━━━━━\u001b[0m \u001b[32m5.3/5.3 MB\u001b[0m \u001b[31m55.5 MB/s\u001b[0m eta \u001b[36m0:00:00\u001b[0m\n",
            "\u001b[?25hRequirement already satisfied: libclang>=13.0.0 in /usr/local/lib/python3.10/dist-packages (from tensorflow==2.16.1->-r requirements.txt (line 1)) (18.1.1)\n",
            "Collecting ml-dtypes~=0.3.1 (from tensorflow==2.16.1->-r requirements.txt (line 1))\n",
            "  Downloading ml_dtypes-0.3.2-cp310-cp310-manylinux_2_17_x86_64.manylinux2014_x86_64.whl (2.2 MB)\n",
            "\u001b[2K     \u001b[90m━━━━━━━━━━━━━━━━━━━━━━━━━━━━━━━━━━━━━━━━\u001b[0m \u001b[32m2.2/2.2 MB\u001b[0m \u001b[31m75.0 MB/s\u001b[0m eta \u001b[36m0:00:00\u001b[0m\n",
            "\u001b[?25hRequirement already satisfied: opt-einsum>=2.3.2 in /usr/local/lib/python3.10/dist-packages (from tensorflow==2.16.1->-r requirements.txt (line 1)) (3.3.0)\n",
            "Requirement already satisfied: packaging in /usr/local/lib/python3.10/dist-packages (from tensorflow==2.16.1->-r requirements.txt (line 1)) (24.0)\n",
            "Requirement already satisfied: protobuf!=4.21.0,!=4.21.1,!=4.21.2,!=4.21.3,!=4.21.4,!=4.21.5,<5.0.0dev,>=3.20.3 in /usr/local/lib/python3.10/dist-packages (from tensorflow==2.16.1->-r requirements.txt (line 1)) (3.20.3)\n",
            "Requirement already satisfied: requests<3,>=2.21.0 in /usr/local/lib/python3.10/dist-packages (from tensorflow==2.16.1->-r requirements.txt (line 1)) (2.31.0)\n",
            "Requirement already satisfied: setuptools in /usr/local/lib/python3.10/dist-packages (from tensorflow==2.16.1->-r requirements.txt (line 1)) (67.7.2)\n",
            "Requirement already satisfied: six>=1.12.0 in /usr/local/lib/python3.10/dist-packages (from tensorflow==2.16.1->-r requirements.txt (line 1)) (1.16.0)\n",
            "Requirement already satisfied: termcolor>=1.1.0 in /usr/local/lib/python3.10/dist-packages (from tensorflow==2.16.1->-r requirements.txt (line 1)) (2.4.0)\n",
            "Requirement already satisfied: typing-extensions>=3.6.6 in /usr/local/lib/python3.10/dist-packages (from tensorflow==2.16.1->-r requirements.txt (line 1)) (4.11.0)\n",
            "Requirement already satisfied: wrapt>=1.11.0 in /usr/local/lib/python3.10/dist-packages (from tensorflow==2.16.1->-r requirements.txt (line 1)) (1.14.1)\n",
            "Requirement already satisfied: grpcio<2.0,>=1.24.3 in /usr/local/lib/python3.10/dist-packages (from tensorflow==2.16.1->-r requirements.txt (line 1)) (1.63.0)\n",
            "Collecting tensorboard<2.17,>=2.16 (from tensorflow==2.16.1->-r requirements.txt (line 1))\n",
            "  Downloading tensorboard-2.16.2-py3-none-any.whl (5.5 MB)\n",
            "\u001b[2K     \u001b[90m━━━━━━━━━━━━━━━━━━━━━━━━━━━━━━━━━━━━━━━━\u001b[0m \u001b[32m5.5/5.5 MB\u001b[0m \u001b[31m52.5 MB/s\u001b[0m eta \u001b[36m0:00:00\u001b[0m\n",
            "\u001b[?25hCollecting keras>=3.0.0 (from tensorflow==2.16.1->-r requirements.txt (line 1))\n",
            "  Downloading keras-3.3.3-py3-none-any.whl (1.1 MB)\n",
            "\u001b[2K     \u001b[90m━━━━━━━━━━━━━━━━━━━━━━━━━━━━━━━━━━━━━━━━\u001b[0m \u001b[32m1.1/1.1 MB\u001b[0m \u001b[31m52.4 MB/s\u001b[0m eta \u001b[36m0:00:00\u001b[0m\n",
            "\u001b[?25hRequirement already satisfied: tensorflow-io-gcs-filesystem>=0.23.1 in /usr/local/lib/python3.10/dist-packages (from tensorflow==2.16.1->-r requirements.txt (line 1)) (0.37.0)\n",
            "Requirement already satisfied: pandas>=0.23.4 in /usr/local/lib/python3.10/dist-packages (from deepface->-r requirements.txt (line 5)) (2.0.3)\n",
            "Requirement already satisfied: gdown>=3.10.1 in /usr/local/lib/python3.10/dist-packages (from deepface->-r requirements.txt (line 5)) (5.1.0)\n",
            "Requirement already satisfied: tqdm>=4.30.0 in /usr/local/lib/python3.10/dist-packages (from deepface->-r requirements.txt (line 5)) (4.66.4)\n",
            "Requirement already satisfied: Flask>=1.1.2 in /usr/local/lib/python3.10/dist-packages (from deepface->-r requirements.txt (line 5)) (2.2.5)\n",
            "Collecting mtcnn>=0.1.0 (from deepface->-r requirements.txt (line 5))\n",
            "  Downloading mtcnn-0.1.1-py3-none-any.whl (2.3 MB)\n",
            "\u001b[2K     \u001b[90m━━━━━━━━━━━━━━━━━━━━━━━━━━━━━━━━━━━━━━━━\u001b[0m \u001b[32m2.3/2.3 MB\u001b[0m \u001b[31m73.1 MB/s\u001b[0m eta \u001b[36m0:00:00\u001b[0m\n",
            "\u001b[?25hCollecting retina-face>=0.0.1 (from deepface->-r requirements.txt (line 5))\n",
            "  Downloading retina_face-0.0.17-py3-none-any.whl (25 kB)\n",
            "Collecting fire>=0.4.0 (from deepface->-r requirements.txt (line 5))\n",
            "  Downloading fire-0.6.0.tar.gz (88 kB)\n",
            "\u001b[2K     \u001b[90m━━━━━━━━━━━━━━━━━━━━━━━━━━━━━━━━━━━━━━━━\u001b[0m \u001b[32m88.4/88.4 kB\u001b[0m \u001b[31m10.9 MB/s\u001b[0m eta \u001b[36m0:00:00\u001b[0m\n",
            "\u001b[?25h  Preparing metadata (setup.py) ... \u001b[?25l\u001b[?25hdone\n",
            "Collecting gunicorn>=20.1.0 (from deepface->-r requirements.txt (line 5))\n",
            "  Downloading gunicorn-22.0.0-py3-none-any.whl (84 kB)\n",
            "\u001b[2K     \u001b[90m━━━━━━━━━━━━━━━━━━━━━━━━━━━━━━━━━━━━━━━━\u001b[0m \u001b[32m84.4/84.4 kB\u001b[0m \u001b[31m10.7 MB/s\u001b[0m eta \u001b[36m0:00:00\u001b[0m\n",
            "\u001b[?25hRequirement already satisfied: contourpy>=1.0.1 in /usr/local/lib/python3.10/dist-packages (from matplotlib->-r requirements.txt (line 6)) (1.2.1)\n",
            "Requirement already satisfied: cycler>=0.10 in /usr/local/lib/python3.10/dist-packages (from matplotlib->-r requirements.txt (line 6)) (0.12.1)\n",
            "Requirement already satisfied: fonttools>=4.22.0 in /usr/local/lib/python3.10/dist-packages (from matplotlib->-r requirements.txt (line 6)) (4.51.0)\n",
            "Requirement already satisfied: kiwisolver>=1.0.1 in /usr/local/lib/python3.10/dist-packages (from matplotlib->-r requirements.txt (line 6)) (1.4.5)\n",
            "Requirement already satisfied: pyparsing>=2.3.1 in /usr/local/lib/python3.10/dist-packages (from matplotlib->-r requirements.txt (line 6)) (3.1.2)\n",
            "Requirement already satisfied: python-dateutil>=2.7 in /usr/local/lib/python3.10/dist-packages (from matplotlib->-r requirements.txt (line 6)) (2.8.2)\n",
            "INFO: pip is looking at multiple versions of tf-keras to determine which version is compatible with other requirements. This could take a while.\n",
            "Collecting tf-keras (from -r requirements.txt (line 8))\n",
            "  Downloading tf_keras-2.16.0-py3-none-any.whl (1.7 MB)\n",
            "\u001b[2K     \u001b[90m━━━━━━━━━━━━━━━━━━━━━━━━━━━━━━━━━━━━━━━━\u001b[0m \u001b[32m1.7/1.7 MB\u001b[0m \u001b[31m52.9 MB/s\u001b[0m eta \u001b[36m0:00:00\u001b[0m\n",
            "\u001b[?25hRequirement already satisfied: wheel<1.0,>=0.23.0 in /usr/local/lib/python3.10/dist-packages (from astunparse>=1.6.0->tensorflow==2.16.1->-r requirements.txt (line 1)) (0.43.0)\n",
            "Requirement already satisfied: Werkzeug>=2.2.2 in /usr/local/lib/python3.10/dist-packages (from Flask>=1.1.2->deepface->-r requirements.txt (line 5)) (3.0.3)\n",
            "Requirement already satisfied: Jinja2>=3.0 in /usr/local/lib/python3.10/dist-packages (from Flask>=1.1.2->deepface->-r requirements.txt (line 5)) (3.1.4)\n",
            "Requirement already satisfied: itsdangerous>=2.0 in /usr/local/lib/python3.10/dist-packages (from Flask>=1.1.2->deepface->-r requirements.txt (line 5)) (2.2.0)\n",
            "Requirement already satisfied: click>=8.0 in /usr/local/lib/python3.10/dist-packages (from Flask>=1.1.2->deepface->-r requirements.txt (line 5)) (8.1.7)\n",
            "Requirement already satisfied: beautifulsoup4 in /usr/local/lib/python3.10/dist-packages (from gdown>=3.10.1->deepface->-r requirements.txt (line 5)) (4.12.3)\n",
            "Requirement already satisfied: filelock in /usr/local/lib/python3.10/dist-packages (from gdown>=3.10.1->deepface->-r requirements.txt (line 5)) (3.14.0)\n",
            "Requirement already satisfied: rich in /usr/local/lib/python3.10/dist-packages (from keras>=3.0.0->tensorflow==2.16.1->-r requirements.txt (line 1)) (13.7.1)\n",
            "Collecting namex (from keras>=3.0.0->tensorflow==2.16.1->-r requirements.txt (line 1))\n",
            "  Downloading namex-0.0.8-py3-none-any.whl (5.8 kB)\n",
            "Collecting optree (from keras>=3.0.0->tensorflow==2.16.1->-r requirements.txt (line 1))\n",
            "  Downloading optree-0.11.0-cp310-cp310-manylinux_2_17_x86_64.manylinux2014_x86_64.whl (311 kB)\n",
            "\u001b[2K     \u001b[90m━━━━━━━━━━━━━━━━━━━━━━━━━━━━━━━━━━━━━━━━\u001b[0m \u001b[32m311.2/311.2 kB\u001b[0m \u001b[31m24.6 MB/s\u001b[0m eta \u001b[36m0:00:00\u001b[0m\n",
            "\u001b[?25hRequirement already satisfied: pytz>=2020.1 in /usr/local/lib/python3.10/dist-packages (from pandas>=0.23.4->deepface->-r requirements.txt (line 5)) (2023.4)\n",
            "Requirement already satisfied: tzdata>=2022.1 in /usr/local/lib/python3.10/dist-packages (from pandas>=0.23.4->deepface->-r requirements.txt (line 5)) (2024.1)\n",
            "Requirement already satisfied: charset-normalizer<4,>=2 in /usr/local/lib/python3.10/dist-packages (from requests<3,>=2.21.0->tensorflow==2.16.1->-r requirements.txt (line 1)) (3.3.2)\n",
            "Requirement already satisfied: idna<4,>=2.5 in /usr/local/lib/python3.10/dist-packages (from requests<3,>=2.21.0->tensorflow==2.16.1->-r requirements.txt (line 1)) (3.7)\n",
            "Requirement already satisfied: urllib3<3,>=1.21.1 in /usr/local/lib/python3.10/dist-packages (from requests<3,>=2.21.0->tensorflow==2.16.1->-r requirements.txt (line 1)) (2.0.7)\n",
            "Requirement already satisfied: certifi>=2017.4.17 in /usr/local/lib/python3.10/dist-packages (from requests<3,>=2.21.0->tensorflow==2.16.1->-r requirements.txt (line 1)) (2024.2.2)\n",
            "Requirement already satisfied: markdown>=2.6.8 in /usr/local/lib/python3.10/dist-packages (from tensorboard<2.17,>=2.16->tensorflow==2.16.1->-r requirements.txt (line 1)) (3.6)\n",
            "Requirement already satisfied: tensorboard-data-server<0.8.0,>=0.7.0 in /usr/local/lib/python3.10/dist-packages (from tensorboard<2.17,>=2.16->tensorflow==2.16.1->-r requirements.txt (line 1)) (0.7.2)\n",
            "Requirement already satisfied: MarkupSafe>=2.0 in /usr/local/lib/python3.10/dist-packages (from Jinja2>=3.0->Flask>=1.1.2->deepface->-r requirements.txt (line 5)) (2.1.5)\n",
            "Requirement already satisfied: soupsieve>1.2 in /usr/local/lib/python3.10/dist-packages (from beautifulsoup4->gdown>=3.10.1->deepface->-r requirements.txt (line 5)) (2.5)\n",
            "Requirement already satisfied: PySocks!=1.5.7,>=1.5.6 in /usr/local/lib/python3.10/dist-packages (from requests<3,>=2.21.0->tensorflow==2.16.1->-r requirements.txt (line 1)) (1.7.1)\n",
            "Requirement already satisfied: markdown-it-py>=2.2.0 in /usr/local/lib/python3.10/dist-packages (from rich->keras>=3.0.0->tensorflow==2.16.1->-r requirements.txt (line 1)) (3.0.0)\n",
            "Requirement already satisfied: pygments<3.0.0,>=2.13.0 in /usr/local/lib/python3.10/dist-packages (from rich->keras>=3.0.0->tensorflow==2.16.1->-r requirements.txt (line 1)) (2.16.1)\n",
            "Requirement already satisfied: mdurl~=0.1 in /usr/local/lib/python3.10/dist-packages (from markdown-it-py>=2.2.0->rich->keras>=3.0.0->tensorflow==2.16.1->-r requirements.txt (line 1)) (0.1.2)\n",
            "Building wheels for collected packages: fire\n",
            "  Building wheel for fire (setup.py) ... \u001b[?25l\u001b[?25hdone\n",
            "  Created wheel for fire: filename=fire-0.6.0-py2.py3-none-any.whl size=117029 sha256=23c68704012180629c41d82aac342d8fbc73ce52e3f8e210171d5c843e35e523\n",
            "  Stored in directory: /root/.cache/pip/wheels/d6/6d/5d/5b73fa0f46d01a793713f8859201361e9e581ced8c75e5c6a3\n",
            "Successfully built fire\n",
            "Installing collected packages: namex, optree, ml-dtypes, h5py, gunicorn, fire, tensorboard, keras, tensorflow, mtcnn, tf-keras, retina-face, deepface\n",
            "  Attempting uninstall: ml-dtypes\n",
            "    Found existing installation: ml-dtypes 0.2.0\n",
            "    Uninstalling ml-dtypes-0.2.0:\n",
            "      Successfully uninstalled ml-dtypes-0.2.0\n",
            "  Attempting uninstall: h5py\n",
            "    Found existing installation: h5py 3.9.0\n",
            "    Uninstalling h5py-3.9.0:\n",
            "      Successfully uninstalled h5py-3.9.0\n",
            "  Attempting uninstall: tensorboard\n",
            "    Found existing installation: tensorboard 2.15.2\n",
            "    Uninstalling tensorboard-2.15.2:\n",
            "      Successfully uninstalled tensorboard-2.15.2\n",
            "  Attempting uninstall: keras\n",
            "    Found existing installation: keras 2.15.0\n",
            "    Uninstalling keras-2.15.0:\n",
            "      Successfully uninstalled keras-2.15.0\n",
            "  Attempting uninstall: tensorflow\n",
            "    Found existing installation: tensorflow 2.15.0\n",
            "    Uninstalling tensorflow-2.15.0:\n",
            "      Successfully uninstalled tensorflow-2.15.0\n",
            "  Attempting uninstall: tf-keras\n",
            "    Found existing installation: tf_keras 2.15.1\n",
            "    Uninstalling tf_keras-2.15.1:\n",
            "      Successfully uninstalled tf_keras-2.15.1\n",
            "Successfully installed deepface-0.0.91 fire-0.6.0 gunicorn-22.0.0 h5py-3.11.0 keras-3.3.3 ml-dtypes-0.3.2 mtcnn-0.1.1 namex-0.0.8 optree-0.11.0 retina-face-0.0.17 tensorboard-2.16.2 tensorflow-2.16.1 tf-keras-2.16.0\n"
          ]
        }
      ]
    },
    {
      "cell_type": "code",
      "execution_count": 12,
      "metadata": {
        "id": "zwFnJsE6vjf8",
        "colab": {
          "base_uri": "https://localhost:8080/"
        },
        "outputId": "d55ef341-8a9a-4708-8207-dd123ecb360e"
      },
      "outputs": [
        {
          "output_type": "stream",
          "name": "stdout",
          "text": [
            "2024-05-23 10:10:09.379446: I tensorflow/core/platform/cpu_feature_guard.cc:210] This TensorFlow binary is optimized to use available CPU instructions in performance-critical operations.\n",
            "To enable the following instructions: AVX2 FMA, in other operations, rebuild TensorFlow with the appropriate compiler flags.\n",
            "2024-05-23 10:10:11.016869: W tensorflow/compiler/tf2tensorrt/utils/py_utils.cc:38] TF-TRT Warning: Could not find TensorRT\n",
            "/content/drive/MyDrive/BYOP-SAGA/Model/vot_repo\n",
            "The candidate being validated is :  /content/drive/MyDrive/BYOP-SAGA/Model/vot_repo/sanjay\n",
            "Files filename in load images .....  :  frame_san1_414.jpg\n",
            "Files utilized for validation from camera :  /content/drive/MyDrive/BYOP-SAGA/Model/vot_repo/sanjay/frame_san1_414.jpg\n",
            "Files filename in load images .....  :  sanjay.jpg\n",
            "Files utilized for validation from camera :  /content/drive/MyDrive/BYOP-SAGA/Model/vot_repo/sanjay/sanjay.jpg\n",
            "Files filename in load images .....  :  frame_san1_8.jpg\n",
            "Files utilized for validation from camera :  /content/drive/MyDrive/BYOP-SAGA/Model/vot_repo/sanjay/frame_san1_8.jpg\n",
            "Files filename in load images .....  :  frame_san1_137.jpg\n",
            "Files utilized for validation from camera :  /content/drive/MyDrive/BYOP-SAGA/Model/vot_repo/sanjay/frame_san1_137.jpg\n",
            "Files filename in load images .....  :  frame_san1_258.jpg\n",
            "Files utilized for validation from camera :  /content/drive/MyDrive/BYOP-SAGA/Model/vot_repo/sanjay/frame_san1_258.jpg\n",
            "Files filename in load images .....  :  frame_san1_136.jpg\n",
            "Files utilized for validation from camera :  /content/drive/MyDrive/BYOP-SAGA/Model/vot_repo/sanjay/frame_san1_136.jpg\n",
            "Files filename in load images .....  :  frame_san1_413.jpg\n",
            "Files utilized for validation from camera :  /content/drive/MyDrive/BYOP-SAGA/Model/vot_repo/sanjay/frame_san1_413.jpg\n",
            "Files filename in load images .....  :  frame_san_30.jpg\n",
            "Files utilized for validation from camera :  /content/drive/MyDrive/BYOP-SAGA/Model/vot_repo/sanjay/frame_san_30.jpg\n",
            "Files filename in load images .....  :  frame_san1_257.jpg\n",
            "Files utilized for validation from camera :  /content/drive/MyDrive/BYOP-SAGA/Model/vot_repo/sanjay/frame_san1_257.jpg\n",
            "Files filename in load images .....  :  frame_gaurav2spoof_384.jpg\n",
            "Files utilized for validation from camera :  /content/drive/MyDrive/BYOP-SAGA/Model/vot_repo/sanjay/frame_gaurav2spoof_384.jpg\n",
            "Files filename in load images .....  :  frame_rin1_537.jpg\n",
            "Files utilized for validation from camera :  /content/drive/MyDrive/BYOP-SAGA/Model/vot_repo/sanjay/frame_rin1_537.jpg\n",
            "Files filename in load images .....  :  frame_hem2spoof_427.jpg\n",
            "Files utilized for validation from camera :  /content/drive/MyDrive/BYOP-SAGA/Model/vot_repo/sanjay/frame_hem2spoof_427.jpg\n",
            "Files filename in load images .....  :  frame_gaurav2spoof_385.jpg\n",
            "Files utilized for validation from camera :  /content/drive/MyDrive/BYOP-SAGA/Model/vot_repo/sanjay/frame_gaurav2spoof_385.jpg\n",
            "Files filename in load images .....  :  frame_hem2spoof_428.jpg\n",
            "Files utilized for validation from camera :  /content/drive/MyDrive/BYOP-SAGA/Model/vot_repo/sanjay/frame_hem2spoof_428.jpg\n",
            "['/content/drive/MyDrive/BYOP-SAGA/Model/vot_repo/sanjay/frame_san1_414.jpg', '/content/drive/MyDrive/BYOP-SAGA/Model/vot_repo/sanjay/sanjay.jpg', '/content/drive/MyDrive/BYOP-SAGA/Model/vot_repo/sanjay/frame_san1_8.jpg', '/content/drive/MyDrive/BYOP-SAGA/Model/vot_repo/sanjay/frame_san1_137.jpg', '/content/drive/MyDrive/BYOP-SAGA/Model/vot_repo/sanjay/frame_san1_258.jpg', '/content/drive/MyDrive/BYOP-SAGA/Model/vot_repo/sanjay/frame_san1_136.jpg', '/content/drive/MyDrive/BYOP-SAGA/Model/vot_repo/sanjay/frame_san1_413.jpg', '/content/drive/MyDrive/BYOP-SAGA/Model/vot_repo/sanjay/frame_san_30.jpg', '/content/drive/MyDrive/BYOP-SAGA/Model/vot_repo/sanjay/frame_san1_257.jpg', '/content/drive/MyDrive/BYOP-SAGA/Model/vot_repo/sanjay/frame_gaurav2spoof_384.jpg', '/content/drive/MyDrive/BYOP-SAGA/Model/vot_repo/sanjay/frame_rin1_537.jpg', '/content/drive/MyDrive/BYOP-SAGA/Model/vot_repo/sanjay/frame_hem2spoof_427.jpg', '/content/drive/MyDrive/BYOP-SAGA/Model/vot_repo/sanjay/frame_gaurav2spoof_385.jpg', '/content/drive/MyDrive/BYOP-SAGA/Model/vot_repo/sanjay/frame_hem2spoof_428.jpg']\n",
            "Loading Model ..........\n",
            "WARNING:absl:Compiled the loaded model, but the compiled metrics have yet to be built. `model.compile_metrics` will be empty until you train or evaluate the model.\n",
            "***************Model loaded successfully**********\n",
            "**************Model Initialized****************\n",
            "Getting labels of images\n",
            "\u001b[1m1/1\u001b[0m \u001b[32m━━━━━━━━━━━━━━━━━━━━\u001b[0m\u001b[37m\u001b[0m \u001b[1m2s\u001b[0m 2s/step\n",
            "\u001b[1m1/1\u001b[0m \u001b[32m━━━━━━━━━━━━━━━━━━━━\u001b[0m\u001b[37m\u001b[0m \u001b[1m0s\u001b[0m 84ms/step\n",
            "\u001b[1m1/1\u001b[0m \u001b[32m━━━━━━━━━━━━━━━━━━━━\u001b[0m\u001b[37m\u001b[0m \u001b[1m0s\u001b[0m 94ms/step\n",
            "\u001b[1m1/1\u001b[0m \u001b[32m━━━━━━━━━━━━━━━━━━━━\u001b[0m\u001b[37m\u001b[0m \u001b[1m0s\u001b[0m 84ms/step\n",
            "\u001b[1m1/1\u001b[0m \u001b[32m━━━━━━━━━━━━━━━━━━━━\u001b[0m\u001b[37m\u001b[0m \u001b[1m0s\u001b[0m 84ms/step\n",
            "\u001b[1m1/1\u001b[0m \u001b[32m━━━━━━━━━━━━━━━━━━━━\u001b[0m\u001b[37m\u001b[0m \u001b[1m0s\u001b[0m 85ms/step\n",
            "\u001b[1m1/1\u001b[0m \u001b[32m━━━━━━━━━━━━━━━━━━━━\u001b[0m\u001b[37m\u001b[0m \u001b[1m0s\u001b[0m 82ms/step\n",
            "\u001b[1m1/1\u001b[0m \u001b[32m━━━━━━━━━━━━━━━━━━━━\u001b[0m\u001b[37m\u001b[0m \u001b[1m0s\u001b[0m 91ms/step\n",
            "\u001b[1m1/1\u001b[0m \u001b[32m━━━━━━━━━━━━━━━━━━━━\u001b[0m\u001b[37m\u001b[0m \u001b[1m0s\u001b[0m 88ms/step\n",
            "\u001b[1m1/1\u001b[0m \u001b[32m━━━━━━━━━━━━━━━━━━━━\u001b[0m\u001b[37m\u001b[0m \u001b[1m0s\u001b[0m 48ms/step\n",
            "\u001b[1m1/1\u001b[0m \u001b[32m━━━━━━━━━━━━━━━━━━━━\u001b[0m\u001b[37m\u001b[0m \u001b[1m0s\u001b[0m 51ms/step\n",
            "\u001b[1m1/1\u001b[0m \u001b[32m━━━━━━━━━━━━━━━━━━━━\u001b[0m\u001b[37m\u001b[0m \u001b[1m0s\u001b[0m 51ms/step\n",
            "\u001b[1m1/1\u001b[0m \u001b[32m━━━━━━━━━━━━━━━━━━━━\u001b[0m\u001b[37m\u001b[0m \u001b[1m0s\u001b[0m 51ms/step\n",
            "\u001b[1m1/1\u001b[0m \u001b[32m━━━━━━━━━━━━━━━━━━━━\u001b[0m\u001b[37m\u001b[0m \u001b[1m0s\u001b[0m 88ms/step\n",
            "Output is :  ('REAL', 98.63921999931335)\n",
            "Output is :  ('REAL', 98.64733219146729)\n",
            "Output is :  ('REAL', 98.75360131263733)\n",
            "Output is :  ('REAL', 98.54662418365479)\n",
            "Output is :  ('REAL', 98.5130786895752)\n",
            "Output is :  ('REAL', 98.54563474655151)\n",
            "Output is :  ('REAL', 98.65502715110779)\n",
            "Output is :  ('REAL', 98.69810938835144)\n",
            "Output is :  ('REAL', 98.52023124694824)\n",
            "Output is :  ('REAL', 98.75959157943726)\n",
            "Output is :  ('REAL', 98.75606894493103)\n",
            "Output is :  ('REAL', 98.73766303062439)\n",
            "Output is :  ('REAL', 98.76596927642822)\n",
            "Output is :  ('REAL', 98.77692461013794)\n",
            "The value that occurs the most is: ('REAL', 98.63921999931335) with 1 occurrences.\n",
            "/content/drive/MyDrive/BYOP-SAGA/Model/can_repo\n",
            "/content/drive/MyDrive/BYOP-SAGA/Model/can_repo/sanjay.jpg\n",
            "Figure(640x480)\n",
            "Figure(640x480)\n",
            "Result of Similarity is  True\n",
            "Figure(640x480)\n",
            "Figure(640x480)\n",
            "Result of Similarity is  True\n",
            "Figure(640x480)\n",
            "Figure(640x480)\n",
            "Result of Similarity is  True\n",
            "Figure(640x480)\n",
            "Figure(640x480)\n",
            "Result of Similarity is  True\n",
            "Figure(640x480)\n",
            "Figure(640x480)\n",
            "Result of Similarity is  True\n",
            "Figure(640x480)\n",
            "Figure(640x480)\n",
            "Result of Similarity is  True\n",
            "Figure(640x480)\n",
            "Figure(640x480)\n",
            "Result of Similarity is  True\n",
            "Figure(640x480)\n",
            "Figure(640x480)\n",
            "Result of Similarity is  True\n",
            "Figure(640x480)\n",
            "Figure(640x480)\n",
            "Result of Similarity is  True\n",
            "Figure(640x480)\n",
            "Figure(640x480)\n",
            "Result of Similarity is  False\n",
            "Figure(640x480)\n",
            "Figure(640x480)\n",
            "Result of Similarity is  True\n",
            "Figure(640x480)\n",
            "Figure(640x480)\n",
            "Result of Similarity is  False\n",
            "Figure(640x480)\n",
            "Figure(640x480)\n",
            "Result of Similarity is  False\n",
            "Figure(640x480)\n",
            "Figure(640x480)\n",
            "Result of Similarity is  False\n",
            "The value that occurs the most is: True with 10 occurrences.\n"
          ]
        }
      ],
      "source": [
        "!python main.py"
      ]
    }
  ],
  "metadata": {
    "colab": {
      "name": "Welcome To Colab",
      "provenance": [],
      "include_colab_link": true
    },
    "kernelspec": {
      "display_name": "Python 3",
      "name": "python3"
    }
  },
  "nbformat": 4,
  "nbformat_minor": 0
}